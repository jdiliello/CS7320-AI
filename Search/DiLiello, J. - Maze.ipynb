{
 "cells": [
  {
   "cell_type": "markdown",
   "metadata": {},
   "source": [
    "# Search: Path finding\n",
    "\n",
    "Total Points: 10\n",
    "\n",
    "\n",
    "The agent knows the layout of the maze (i.e., it is a fully observable, deterministic, discrete, known environment). To goal is to find a path through a maze from a given start state $S$ to a given goal state $G$. Here is the small example maze:"
   ]
  },
  {
   "cell_type": "code",
   "execution_count": 17,
   "metadata": {},
   "outputs": [
    {
     "name": "stdout",
     "output_type": "stream",
     "text": [
      "XXXXXXXXXXXXXXXXXXXXXX\n",
      "X XX        X X      X\n",
      "X    XXXXXX X XXXXXX X\n",
      "XXXXXX     S  X      X\n",
      "X    X XXXXXX XX XXXXX\n",
      "X XXXX X         X   X\n",
      "X        XXX XXX   X X\n",
      "XXXXXXXXXX    XXXXXX X\n",
      "XG         XX        X\n",
      "XXXXXXXXXXXXXXXXXXXXXX\n",
      "\n"
     ]
    }
   ],
   "source": [
    "f = open(\"small_maze.txt\", \"r\")\n",
    "maze_str = f.read()\n",
    "print(maze_str)"
   ]
  },
  {
   "cell_type": "markdown",
   "metadata": {},
   "source": [
    "## Parsing and pretty printing the maze\n",
    "\n",
    "The maze can also be displayed in color using code in the file [maze_helper.py](maze_helper.py). The code parses the string representing the maze and converts it into a `numpy` 2d array which you can use in your implementation."
   ]
  },
  {
   "cell_type": "code",
   "execution_count": 18,
   "metadata": {
    "collapsed": true
   },
   "outputs": [],
   "source": [
    "\n",
    "\n",
    "# from maze_helper.py\n",
    "def parse_maze(maze_str, asInt=True):\n",
    "    \"\"\"Convert a maze as a string into a 2d numpy array\"\"\"\n",
    "    maze = maze_str.split('\\n')\n",
    "    maze = np.array([[tile for tile in row] for row in maze if len(row) > 0])\n",
    "    \n",
    "    if asInt:\n",
    "        maze[maze == ' '] = 0\n",
    "        maze[maze == 'X'] = 1\n",
    "        maze[maze == 'S'] = 2\n",
    "        maze[maze == 'G'] = 3\n",
    "        maze[maze == 'P'] = 4\n",
    "        # Converts all string values to integers\n",
    "        maze = maze.astype(int)\n",
    "    \n",
    "    return maze\n",
    "\n",
    "# from maze_helper.py\n",
    "# This is modified code I found on StackOverflow, at this link\n",
    "# https://stackoverflow.com/questions/43971138/python-plotting-colored-grid-based-on-values\n",
    "def show_maze(maze):\n",
    "    \"\"\"display a maze (numpy array)\"\"\"\n",
    "    cmap = colors.ListedColormap(['white', 'black', 'blue', 'green', 'red', 'grey'])\n",
    "    bounds = [0, 1, 2, 3, 4, 5]\n",
    "    \n",
    "    # Converts all tile types to integers\n",
    "    maze[maze == ' '] = 0\n",
    "    maze[maze == 'X'] = 1\n",
    "    maze[maze == 'S'] = 2\n",
    "    maze[maze == 'G'] = 3\n",
    "    maze[maze == 'P'] = 4\n",
    "    maze[maze == 'T'] = 5\n",
    "    # Converts all string values to integers\n",
    "    maze = maze.astype(np.int)\n",
    "        \n",
    "    norm = colors.BoundaryNorm(bounds, cmap.N)\n",
    "    \n",
    "    fig, ax = plt.subplots()\n",
    "    ax.imshow(maze, cmap=cmap, norm=norm)\n",
    "    \n",
    "    plt.show()\n",
    "\n",
    "def run_example():\n",
    "    for type in ['small', 'medium', 'large', 'open']:\n",
    "        f = open(f\"{type}_maze.txt\", \"r\")    \n",
    "        maze_str = f.read()\n",
    "        print(maze_str)\n",
    "            \n",
    "        maze = parse_maze(maze_str)\n",
    "        print(maze)\n",
    "    \n",
    "        show_maze(maze)"
   ]
  },
  {
   "cell_type": "code",
   "execution_count": 20,
   "metadata": {},
   "outputs": [
    {
     "name": "stderr",
     "output_type": "stream",
     "text": [
      "/Library/Frameworks/Python.framework/Versions/3.6/lib/python3.6/site-packages/ipykernel_launcher.py:31: FutureWarning: elementwise comparison failed; returning scalar instead, but in the future will perform elementwise comparison\n",
      "/Library/Frameworks/Python.framework/Versions/3.6/lib/python3.6/site-packages/ipykernel_launcher.py:32: FutureWarning: elementwise comparison failed; returning scalar instead, but in the future will perform elementwise comparison\n",
      "/Library/Frameworks/Python.framework/Versions/3.6/lib/python3.6/site-packages/ipykernel_launcher.py:33: FutureWarning: elementwise comparison failed; returning scalar instead, but in the future will perform elementwise comparison\n",
      "/Library/Frameworks/Python.framework/Versions/3.6/lib/python3.6/site-packages/ipykernel_launcher.py:34: FutureWarning: elementwise comparison failed; returning scalar instead, but in the future will perform elementwise comparison\n",
      "/Library/Frameworks/Python.framework/Versions/3.6/lib/python3.6/site-packages/ipykernel_launcher.py:35: FutureWarning: elementwise comparison failed; returning scalar instead, but in the future will perform elementwise comparison\n"
     ]
    },
    {
     "data": {
      "image/png": "[encoded data removed]",
      "text/plain": [
       "<Figure size 432x288 with 1 Axes>"
      ]
     },
     "metadata": {
      "needs_background": "light"
     },
     "output_type": "display_data"
    }
   ],
   "source": [
    "show_maze(maze)"
   ]
  },
  {
   "cell_type": "markdown",
   "metadata": {},
   "source": [
    "## Tree structures\n",
    "\n",
    "A basic tree implementation in Python is available at https://github.com/yoyzhou/pyTree (found by John Park).\n"
   ]
  },
  {
   "cell_type": "markdown",
   "metadata": {},
   "source": [
    "# Tasks\n",
    "\n",
    "Implement the following search algorithms for solving different mazes:\n",
    "\n",
    "* Breadth-first search (BFS)\n",
    "* Depth-first search (DFS)\n",
    "* Iterative deepening search\n",
    "* Greedy best-first search\n",
    "* A* search\n",
    "\n",
    "Run each of the above algorithms on the \n",
    "[small maze](small_maze.txt), \n",
    "[medium maze](medium_maze.txt), \n",
    "[large maze](large_maze.txt), and the \n",
    "[open maze](open_maze.txt). \n",
    "For each problem instance and each search algorithm, report the following in a table:\n",
    "\n",
    "* The solution and its path cost\n",
    "* Number of nodes expanded\n",
    "* Maximum tree depth searched\n",
    "* Maximum size of the frontier.\n",
    "\n",
    "Display each solution by marking every maze square (or state) visited and the squares on the final path."
   ]
  },
  {
   "cell_type": "markdown",
   "metadata": {},
   "source": [
    "## Task 1: Defining the search Problem [1 point]\n",
    "\n",
    "Define the components of the search problem:\n",
    "\n",
    "* Initial state\n",
    "* Actions\n",
    "* Transition model\n",
    "* Goal state\n",
    "* Path cost"
   ]
  },
  {
   "cell_type": "markdown",
   "metadata": {
    "collapsed": true
   },
   "source": [
    "* __Initial State:__ Start location within the maze (defined by state at loc = S)\n",
    "* __Actions:__ Up, Down, Left, Right\n",
    "* __Transition Model:__\n",
    "* __Goal State:__ Reach goal location within the mast (definded by state at loc = G)\n",
    "* __Path Cost:__ 1 Action = 1 Unit of Cost, find the path with the minimum number of actions needed to reach goal state"
   ]
  },
  {
   "cell_type": "markdown",
   "metadata": {},
   "source": [
    "## Task 2: Breadth-first, Depth-first and iterative deepening search [4 points]\n",
    "\n",
    "The maze contains the start and goal states. Define the other states as intersections. The actions are choosing which direction to go next. You need to write code (a function) that, given a current state and all the available actions finds the set of next possible states. Your search then starts with the start state and explores the maze until it finds the goal state."
   ]
  },
  {
   "cell_type": "markdown",
   "metadata": {},
   "source": [
    "* __Breadth-First__: frontier is first in, first out (FIFO) queue\n",
    "* __Depth-First__: frontier is last in, first out (LIFO) queue\n",
    "* __Iterative-Deepening Search:__ Depth first search, but with increasing cutoff depth values"
   ]
  },
  {
   "cell_type": "code",
   "execution_count": 107,
   "metadata": {
    "scrolled": false
   },
   "outputs": [
    {
     "name": "stdout",
     "output_type": "stream",
     "text": [
      "Depth: 1\n"
     ]
    },
    {
     "data": {
      "image/png": "[encoded data removed]",
      "text/plain": [
       "<Figure size 432x288 with 1 Axes>"
      ]
     },
     "metadata": {
      "needs_background": "light"
     },
     "output_type": "display_data"
    },
    {
     "name": "stdout",
     "output_type": "stream",
     "text": [
      "Depth: 2\n"
     ]
    },
    {
     "data": {
      "image/png": "[encoded data removed]",
      "text/plain": [
       "<Figure size 432x288 with 1 Axes>"
      ]
     },
     "metadata": {
      "needs_background": "light"
     },
     "output_type": "display_data"
    },
    {
     "name": "stdout",
     "output_type": "stream",
     "text": [
      "Depth: 3\n"
     ]
    },
    {
     "data": {
      "image/png": "[encoded data removed]",
      "text/plain": [
       "<Figure size 432x288 with 1 Axes>"
      ]
     },
     "metadata": {
      "needs_background": "light"
     },
     "output_type": "display_data"
    },
    {
     "name": "stdout",
     "output_type": "stream",
     "text": [
      "Depth: 4\n"
     ]
    },
    {
     "data": {
      "image/png": "[encoded data removed]",
      "text/plain": [
       "<Figure size 432x288 with 1 Axes>"
      ]
     },
     "metadata": {
      "needs_background": "light"
     },
     "output_type": "display_data"
    },
    {
     "name": "stdout",
     "output_type": "stream",
     "text": [
      "found goal\n"
     ]
    },
    {
     "data": {
      "image/png": "[encoded data removed]",
      "text/plain": [
       "<Figure size 432x288 with 1 Axes>"
      ]
     },
     "metadata": {
      "needs_background": "light"
     },
     "output_type": "display_data"
    }
   ],
   "source": [
    "import time\n",
    "import numpy as np\n",
    "import matplotlib.pyplot as plt\n",
    "from matplotlib import colors\n",
    "from pyTree.Tree import Tree as Tree\n",
    "import warnings\n",
    "warnings.filterwarnings('ignore')\n",
    "\n",
    "class TreeSearch():\n",
    "    def __init__(self, searchType='BFS'):\n",
    "        self.searchType = searchType\n",
    "        self.tree = None\n",
    "        self.travelledLocs = set()\n",
    "        self.maze = None\n",
    "        self.path = None\n",
    "        self.goal = None\n",
    "        self.nodesExpanded = None\n",
    "        self.maxFrontier = None\n",
    "                           \n",
    "    # from maze_helper.py\n",
    "    @staticmethod\n",
    "    def _parseMazeToInts(maze):\n",
    "        \"\"\"Convert a maze as a string into a 2d numpy array\"\"\"\n",
    "        maze = maze.split('\\n')\n",
    "        maze = np.array([[tile for tile in row] for row in maze if len(row) > 0])\n",
    "        maze[maze == ' '] = 0  # paths\n",
    "        maze[maze == 'X'] = 1  # border/barrier/wall\n",
    "        maze[maze == 'S'] = 2  # start position\n",
    "        maze[maze == 'G'] = 3  # goal position\n",
    "        maze = maze.astype(int)\n",
    "        return maze\n",
    "    \n",
    "    def _getStartLoc(self):\n",
    "        \"\"\" return start location\"\"\"\n",
    "        startLoc = np.argwhere(self.maze == 2)[0]\n",
    "        x = startLoc[1]\n",
    "        y = startLoc[0]\n",
    "        return (y, x)\n",
    "    \n",
    "    def _getGoalLoc(self):\n",
    "        \"\"\" return goal location \"\"\"\n",
    "        goalLoc = np.argwhere(self.maze == 3)[0]\n",
    "        x = goalLoc[1]\n",
    "        y = goalLoc[0]\n",
    "        return (y, x)\n",
    "        \n",
    "    def _getLocations(self, pos):\n",
    "        \"\"\" get all possible locations from position\"\"\"\n",
    "        self.travelledLocs.add(pos)\n",
    "        x = pos[1]\n",
    "        y = pos[0]\n",
    "        positionList = [\n",
    "            (y + 1, x),  # North\n",
    "            (y - 1, x),  # South\n",
    "            (y, x - 1),  # West\n",
    "            (y, x + 1),  # East\n",
    "        ]\n",
    "        np.random.shuffle(positionList)\n",
    "        return positionList\n",
    "\n",
    "    @staticmethod\n",
    "    def _getPath(node):\n",
    "        \"\"\" climb up the tree to root \"\"\"\n",
    "        path = []\n",
    "        path.insert(0, node.data)\n",
    "        while not node.isRoot():\n",
    "            node = node.getParent()\n",
    "            path.insert(0, node.data)\n",
    "        # remove extra tree object that gets inserted for some reason\n",
    "        path.pop(-1)\n",
    "        return path\n",
    "\n",
    "    def showMaze(self):\n",
    "        \"\"\"display a maze (numpy array), taken from maze_helper.py \"\"\"\n",
    "        maze = self.maze.copy()  # ensures that original maze isn't altered\n",
    "        cmap = colors.ListedColormap(['white', 'black', 'blue', 'green', 'red', 'grey'])\n",
    "        # add in travelled locations\n",
    "        for pos in self.travelledLocs:\n",
    "            maze[pos] = 5\n",
    "        # add in path over it\n",
    "        if self.path:\n",
    "            for pos in self.path:\n",
    "                maze[pos] = 4\n",
    "        # ensure start loc is preserved\n",
    "        loc = self._getStartLoc()\n",
    "        maze[loc] = 2\n",
    "        # ensure goal loc is preserved\n",
    "        loc = self._getGoalLoc()\n",
    "        maze[loc] = 3\n",
    "        # Converts all string values to integers\n",
    "        maze = maze.astype(np.int)\n",
    "        self.plottedMaze = maze\n",
    "        fig, ax = plt.subplots()\n",
    "        ax.imshow(maze, cmap=cmap)\n",
    "        plt.show()\n",
    "\n",
    "    def _manhattan(self, loc):\n",
    "        \"\"\" returns manhattan distance between a location and the goal \"\"\"\n",
    "        # |y_goal - y_loc| + |x_goal - x_loc|\n",
    "        return abs(self.goal[1] - loc[1]) + abs(self.goal[0] - loc[0])\n",
    "    \n",
    "    def _euclidian(self, loc):\n",
    "        \"\"\" unused. manhattan distance dominates. \"\"\"\n",
    "        # sqrt((y_goal - y_loc)^2 + (x_goal - x_loc)^2)\n",
    "        return np.sqrt((self.goal[1]-loc[1])**2 + (self.goal[0] - loc[0])**2)\n",
    "\n",
    "    def _aStarHeuristic(self, node):\n",
    "        \"\"\" calculate length of path and manhattan distance to goal\"\"\"\n",
    "        pathLen = len(self._getPath(node)) - 1\n",
    "        return pathLen + self._manhattan(node.data)\n",
    "    \n",
    "    @staticmethod\n",
    "    def _checkDepth(node):\n",
    "        \"\"\" climb back up and check depth of each node \"\"\"\n",
    "        depth = 0\n",
    "        while not node.isRoot():\n",
    "            node = node.getParent()\n",
    "            if len(node.getChildren()) > 1:\n",
    "                depth += 1\n",
    "        return depth\n",
    "    \n",
    "    def search(self, maze):\n",
    "        self.maze = self._parseMazeToInts(maze)\n",
    "        self.start = self._getStartLoc()\n",
    "        self.goal = self._getGoalLoc()\n",
    "        self.tree = Tree(data=self.start)\n",
    "        self.maxFrontier = 0\n",
    "        depth = 1\n",
    "        frontier = [self.tree]\n",
    "        while frontier:\n",
    "            ### TRACK SIZE OF FRONTIER ###\n",
    "            if len(frontier) > self.maxFrontier:\n",
    "                self.maxFrontier = len(frontier)\n",
    "            \n",
    "            ### QUEUE OPTIONS FOR SEARCHES ###\n",
    "            if self.searchType == 'BFS':  # breadth-first search\n",
    "                node = frontier.pop(0)\n",
    "            elif(\n",
    "                self.searchType == 'DFS' or  # depth-first search\n",
    "                self.searchType == 'IDS'     # iterative-deepening search\n",
    "            ):\n",
    "                node = frontier.pop(-1)\n",
    "            elif self.searchType == 'GBFS':  # greedy best-first search\n",
    "                h = [self._manhattan(node.data) for node in frontier]\n",
    "                node = frontier.pop(np.argmin(h))\n",
    "            elif self.searchType == 'A*':  # A* search\n",
    "                h = [self._aStarHeuristic(node) for node in frontier]\n",
    "                node = frontier.pop(np.argmin(h))\n",
    "            else:\n",
    "                print('Invalid search method.')\n",
    "                return\n",
    "            ### END QUEUE OPTIONS ###\n",
    "            \n",
    "            locs = self._getLocations(node.data)\n",
    "            for loc in locs:\n",
    "                if loc in self.travelledLocs: # ignore where I've already been\n",
    "                    continue\n",
    "                state = self.maze[loc]\n",
    "                if state == 0:  # path\n",
    "                    newNode = Tree(data=loc)\n",
    "                    node.addChild(newNode)\n",
    "                    ## needs different handling for IDS\n",
    "                    if self.searchType == 'IDS':\n",
    "                        if self._checkDepth(newNode) <= depth:\n",
    "                            frontier.append(newNode) \n",
    "                        else:  # if node is too deep, do not append to frontier\n",
    "                            continue\n",
    "                    ## if any other search method, append node\n",
    "                    else:\n",
    "                        frontier.append(newNode)\n",
    "                if state == 3:  # goal\n",
    "                    newNode = Tree(data=node)\n",
    "                    node.addChild(newNode)\n",
    "                    self.path = self._getPath(newNode)\n",
    "                    self.showMaze()\n",
    "                    return\n",
    "\n",
    "            # need to check if frontier is empty,\n",
    "            # repopulate with root, and increment depth\n",
    "            if not frontier:\n",
    "                depth += 1\n",
    "                self.travelledLocs = set()\n",
    "                self.tree = Tree(data=self.start)\n",
    "                frontier = [self.tree]\n",
    "\n",
    "f = open(\"small_maze.txt\", \"r\")\n",
    "maze = f.read()\n",
    "\n",
    "ids = TreeSearch('IDS')\n",
    "ids.search(maze)"
   ]
  },
  {
   "cell_type": "code",
   "execution_count": 98,
   "metadata": {},
   "outputs": [
    {
     "name": "stdout",
     "output_type": "stream",
     "text": [
      "(3, 11)\n"
     ]
    }
   ],
   "source": [
    "mazeTypes = ['small', 'medium', 'large', 'open', 'empty', 'wall', 'loops']for type in ['small', 'medium', 'large', 'open']:\n",
    "    f = open(f\"{type}_maze.txt\", \"r\")    \n",
    "    maze_str = f.read()\n",
    "    print(maze_str)\n",
    "\n",
    "    maze = parse_maze(maze_str)\n",
    "    print(maze)\n",
    "\n",
    "    show_maze(maze)"
   ]
  },
  {
   "cell_type": "markdown",
   "metadata": {},
   "source": [
    "Are your implementations complete and optimal? If not, what needs to be changed to make them complete or optimal? What is the time and space complexity of each?"
   ]
  },
  {
   "cell_type": "markdown",
   "metadata": {
    "collapsed": true
   },
   "source": [
    "### Breadth-First Search (BFS)\n",
    "BFS is a complete and optimal solution.  It will always find the path with the lowest cost.\n",
    "\n",
    "### Depth-First Search (DFS)\n",
    "DFS is a complete, but not optimal solution in terms of the path-cost.  It may not always find the path with the lowest cost.\n",
    "\n",
    "### Iterative-Deepening Search (IDS)\n",
    "IDS is a complete, but not optimal solution.  It suffers some of the same short-comings as DFS where it may identify a suboptimal route.\n",
    "\n",
    "### Summary"
   ]
  },
  {
   "cell_type": "markdown",
   "metadata": {},
   "source": [
    "## Task 3: Greedy best-first search [2 points]\n",
    "\n",
    "Assume you have a GPS device that shows you your position in terms of x and y coordinates and you also know the coordinates of the goal. You can estimate the distance from your current position to the goal using a Manhattan distance (see https://en.wikipedia.org/wiki/Taxicab_geometry) as a heuristic function. "
   ]
  },
  {
   "cell_type": "code",
   "execution_count": 19,
   "metadata": {
    "collapsed": true
   },
   "outputs": [],
   "source": [
    "# Your code goes here"
   ]
  },
  {
   "cell_type": "markdown",
   "metadata": {},
   "source": [
    "Is this implementation complete and optimal? What is the time and space complexity?"
   ]
  },
  {
   "cell_type": "code",
   "execution_count": 20,
   "metadata": {
    "collapsed": true
   },
   "outputs": [],
   "source": [
    "# Discussion"
   ]
  },
  {
   "cell_type": "markdown",
   "metadata": {},
   "source": [
    "## Task 4: A* Search [3 points]\n",
    "\n",
    "Use again the GPS-based heuristic function."
   ]
  },
  {
   "cell_type": "code",
   "execution_count": 21,
   "metadata": {
    "collapsed": true
   },
   "outputs": [],
   "source": [
    "# Your code goes here"
   ]
  },
  {
   "cell_type": "markdown",
   "metadata": {},
   "source": [
    "Is this implementation complete and optimal? What is the time and space complexity?"
   ]
  },
  {
   "cell_type": "code",
   "execution_count": 22,
   "metadata": {
    "collapsed": true
   },
   "outputs": [],
   "source": [
    "# Discussion"
   ]
  },
  {
   "cell_type": "markdown",
   "metadata": {},
   "source": [
    "## Bonus Tasks [+1 point]\n",
    "\n",
    "We use intersections as states and the path length between two intersections can be different. If we use total path length in number of squares as path cost, how can we make sure that BFS and iterative deepening search is optimal? Change the code to do so."
   ]
  },
  {
   "cell_type": "code",
   "execution_count": null,
   "metadata": {
    "collapsed": true
   },
   "outputs": [],
   "source": [
    "# Your code goes here"
   ]
  },
  {
   "cell_type": "markdown",
   "metadata": {},
   "source": [
    "Modify your A* search to add weights (see text book) and explore how different weights influence the result."
   ]
  },
  {
   "cell_type": "code",
   "execution_count": 23,
   "metadata": {
    "collapsed": true
   },
   "outputs": [],
   "source": [
    "# Your code goes here"
   ]
  },
  {
   "cell_type": "markdown",
   "metadata": {},
   "source": [
    "What happens if the agent does not know the layout of the maze in advance (i.e., faces an unkown, only partially observable environment)? How does the environment look then (PEAS description)? How would you implement a rational agent to solve the maze? What if the agent still has a GPS device to tell the distance to the goal?"
   ]
  },
  {
   "cell_type": "code",
   "execution_count": 24,
   "metadata": {
    "collapsed": true
   },
   "outputs": [],
   "source": [
    "# Your code goes here"
   ]
  }
 ],
 "metadata": {
  "kernelspec": {
   "display_name": "Python 3",
   "language": "python",
   "name": "python3"
  },
  "language_info": {
   "codemirror_mode": {
    "name": "ipython",
    "version": 3
   },
   "file_extension": ".py",
   "mimetype": "text/x-python",
   "name": "python",
   "nbconvert_exporter": "python",
   "pygments_lexer": "ipython3",
   "version": "3.6.1"
  }
 },
 "nbformat": 4,
 "nbformat_minor": 4
}
