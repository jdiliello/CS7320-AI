{
 "cells": [
  {
   "cell_type": "markdown",
   "metadata": {},
   "source": [
    "# Search: Path finding\n",
    "\n",
    "Total Points: 10\n",
    "\n",
    "\n",
    "The agent knows the layout of the maze (i.e., it is a fully observable, deterministic, discrete, known environment). To goal is to find a path through a maze from a given start state $S$ to a given goal state $G$. Here is the small example maze:"
   ]
  },
  {
   "cell_type": "code",
   "execution_count": 17,
   "metadata": {},
   "outputs": [
    {
     "name": "stdout",
     "output_type": "stream",
     "text": [
      "XXXXXXXXXXXXXXXXXXXXXX\n",
      "X XX        X X      X\n",
      "X    XXXXXX X XXXXXX X\n",
      "XXXXXX     S  X      X\n",
      "X    X XXXXXX XX XXXXX\n",
      "X XXXX X         X   X\n",
      "X        XXX XXX   X X\n",
      "XXXXXXXXXX    XXXXXX X\n",
      "XG         XX        X\n",
      "XXXXXXXXXXXXXXXXXXXXXX\n",
      "\n"
     ]
    }
   ],
   "source": [
    "f = open(\"small_maze.txt\", \"r\")\n",
    "maze_str = f.read()\n",
    "print(maze_str)"
   ]
  },
  {
   "cell_type": "markdown",
   "metadata": {},
   "source": [
    "## Parsing and pretty printing the maze\n",
    "\n",
    "The maze can also be displayed in color using code in the file [maze_helper.py](maze_helper.py). The code parses the string representing the maze and converts it into a `numpy` 2d array which you can use in your implementation."
   ]
  },
  {
   "cell_type": "code",
   "execution_count": 18,
   "metadata": {
    "collapsed": true
   },
   "outputs": [],
   "source": [
    "import numpy as np\n",
    "import matplotlib.pyplot as plt\n",
    "from matplotlib import colors\n",
    "from pyTree.Tree import Tree as Tree\n",
    "\n",
    "# from maze_helper.py\n",
    "def parse_maze(maze_str, asInt=True):\n",
    "    \"\"\"Convert a maze as a string into a 2d numpy array\"\"\"\n",
    "    maze = maze_str.split('\\n')\n",
    "    maze = np.array([[tile for tile in row] for row in maze if len(row) > 0])\n",
    "    \n",
    "    if asInt:\n",
    "        maze[maze == ' '] = 0\n",
    "        maze[maze == 'X'] = 1\n",
    "        maze[maze == 'S'] = 2\n",
    "        maze[maze == 'G'] = 3\n",
    "        maze[maze == 'P'] = 4\n",
    "        # Converts all string values to integers\n",
    "        maze = maze.astype(int)\n",
    "    \n",
    "    return maze\n",
    "\n",
    "# from maze_helper.py\n",
    "# This is modified code I found on StackOverflow, at this link\n",
    "# https://stackoverflow.com/questions/43971138/python-plotting-colored-grid-based-on-values\n",
    "def show_maze(maze):\n",
    "    \"\"\"display a maze (numpy array)\"\"\"\n",
    "    cmap = colors.ListedColormap(['white', 'black', 'blue', 'green', 'red'])\n",
    "    bounds = [0, 1, 2, 3, 4, 5]\n",
    "    \n",
    "    # Converts all tile types to integers\n",
    "    maze[maze == ' '] = 0\n",
    "    maze[maze == 'X'] = 1\n",
    "    maze[maze == 'S'] = 2\n",
    "    maze[maze == 'G'] = 3\n",
    "    maze[maze == 'P'] = 4\n",
    "    # Converts all string values to integers\n",
    "    maze = maze.astype(np.int)\n",
    "        \n",
    "    norm = colors.BoundaryNorm(bounds, cmap.N)\n",
    "    \n",
    "    fig, ax = plt.subplots()\n",
    "    ax.imshow(maze, cmap=cmap, norm=norm)\n",
    "    \n",
    "    plt.show()\n",
    "\n",
    "def run_example():\n",
    "    for type in ['small', 'medium', 'large', 'open']:\n",
    "        f = open(f\"{type}_maze.txt\", \"r\")    \n",
    "        maze_str = f.read()\n",
    "        print(maze_str)\n",
    "            \n",
    "        maze = parse_maze(maze_str)\n",
    "        print(maze)\n",
    "    \n",
    "        show_maze(maze)"
   ]
  },
  {
   "cell_type": "code",
   "execution_count": 19,
   "metadata": {
    "scrolled": true
   },
   "outputs": [
    {
     "name": "stdout",
     "output_type": "stream",
     "text": [
      "Position(0,0): 1\n",
      "Position(8,1): 3\n"
     ]
    }
   ],
   "source": [
    "maze = parse_maze(maze_str, True)\n",
    "\n",
    "# look at two positions in the maze\n",
    "print(\"Position(0,0):\", maze[0, 0])\n",
    "print(\"Position(8,1):\", maze[8, 1])"
   ]
  },
  {
   "cell_type": "code",
   "execution_count": 20,
   "metadata": {},
   "outputs": [
    {
     "name": "stderr",
     "output_type": "stream",
     "text": [
      "/Library/Frameworks/Python.framework/Versions/3.6/lib/python3.6/site-packages/ipykernel_launcher.py:31: FutureWarning: elementwise comparison failed; returning scalar instead, but in the future will perform elementwise comparison\n",
      "/Library/Frameworks/Python.framework/Versions/3.6/lib/python3.6/site-packages/ipykernel_launcher.py:32: FutureWarning: elementwise comparison failed; returning scalar instead, but in the future will perform elementwise comparison\n",
      "/Library/Frameworks/Python.framework/Versions/3.6/lib/python3.6/site-packages/ipykernel_launcher.py:33: FutureWarning: elementwise comparison failed; returning scalar instead, but in the future will perform elementwise comparison\n",
      "/Library/Frameworks/Python.framework/Versions/3.6/lib/python3.6/site-packages/ipykernel_launcher.py:34: FutureWarning: elementwise comparison failed; returning scalar instead, but in the future will perform elementwise comparison\n",
      "/Library/Frameworks/Python.framework/Versions/3.6/lib/python3.6/site-packages/ipykernel_launcher.py:35: FutureWarning: elementwise comparison failed; returning scalar instead, but in the future will perform elementwise comparison\n"
     ]
    },
    {
     "data": {
      "image/png": "[encoded data removed]",
      "text/plain": [
       "<Figure size 432x288 with 1 Axes>"
      ]
     },
     "metadata": {
      "needs_background": "light"
     },
     "output_type": "display_data"
    }
   ],
   "source": [
    "show_maze(maze)"
   ]
  },
  {
   "cell_type": "markdown",
   "metadata": {},
   "source": [
    "## Tree structures\n",
    "\n",
    "A basic tree implementation in Python is available at https://github.com/yoyzhou/pyTree (found by John Park).\n"
   ]
  },
  {
   "cell_type": "markdown",
   "metadata": {},
   "source": [
    "# Tasks\n",
    "\n",
    "Implement the following search algorithms for solving different mazes:\n",
    "\n",
    "* Breadth-first search (BFS)\n",
    "* Depth-first search (DFS)\n",
    "* Iterative deepening search\n",
    "* Greedy best-first search\n",
    "* A* search\n",
    "\n",
    "Run each of the above algorithms on the \n",
    "[small maze](small_maze.txt), \n",
    "[medium maze](medium_maze.txt), \n",
    "[large maze](large_maze.txt), and the \n",
    "[open maze](open_maze.txt). \n",
    "For each problem instance and each search algorithm, report the following in a table:\n",
    "\n",
    "* The solution and its path cost\n",
    "* Number of nodes expanded\n",
    "* Maximum tree depth searched\n",
    "* Maximum size of the frontier.\n",
    "\n",
    "Display each solution by marking every maze square (or state) visited and the squares on the final path."
   ]
  },
  {
   "cell_type": "markdown",
   "metadata": {},
   "source": [
    "## Task 1: Defining the search Problem [1 point]\n",
    "\n",
    "Define the components of the search problem:\n",
    "\n",
    "* Initial state\n",
    "* Actions\n",
    "* Transition model\n",
    "* Goal state\n",
    "* Path cost"
   ]
  },
  {
   "cell_type": "markdown",
   "metadata": {
    "collapsed": true
   },
   "source": [
    "* __Initial State:__ Start location within the maze (defined by state at loc = S)\n",
    "* __Actions:__ Up, Down, Left, Right\n",
    "* __Transition Model:__\n",
    "* __Goal State:__ Reach goal location within the mast (definded by state at loc = G)\n",
    "* __Path Cost:__ 1 Action = 1 Unit of Cost, find the path with the minimum number of actions needed to reach goal state"
   ]
  },
  {
   "cell_type": "markdown",
   "metadata": {},
   "source": [
    "## Task 2: Breadth-first, Depth-first and iterative deepening search [4 points]\n",
    "\n",
    "The maze contains the start and goal states. Define the other states as intersections. The actions are choosing which direction to go next. You need to write code (a function) that, given a current state and all the available actions finds the set of next possible states. Your search then starts with the start state and explores the maze until it finds the goal state."
   ]
  },
  {
   "cell_type": "markdown",
   "metadata": {},
   "source": [
    "* __Breadth-First__: frontier is first in, first out (FIFO) queue\n",
    "* __Depth-First__: frontier is last in, first out (LIFO) queue\n",
    "* __Iterative-Deepening Search:__ Depth first search, but with increasing cutoff depth values"
   ]
  },
  {
   "cell_type": "code",
   "execution_count": 108,
   "metadata": {},
   "outputs": [
    {
     "data": {
      "text/plain": [
       "array([[1, 1, 1, 1, 1, 1, 1, 1, 1, 1, 1, 1, 1, 1, 1, 1, 1, 1, 1, 1, 1, 1],\n",
       "       [1, 0, 1, 1, 0, 0, 0, 0, 0, 0, 0, 0, 1, 0, 1, 0, 0, 0, 0, 0, 0, 1],\n",
       "       [1, 0, 0, 0, 0, 1, 1, 1, 1, 1, 1, 0, 1, 0, 1, 1, 1, 1, 1, 1, 0, 1],\n",
       "       [1, 1, 1, 1, 1, 1, 0, 0, 0, 0, 0, 2, 0, 0, 1, 0, 0, 0, 0, 0, 0, 1],\n",
       "       [1, 0, 0, 0, 0, 1, 0, 1, 1, 1, 1, 1, 1, 0, 1, 1, 0, 1, 1, 1, 1, 1],\n",
       "       [1, 0, 1, 1, 1, 1, 0, 1, 0, 0, 0, 0, 0, 0, 0, 0, 0, 1, 0, 0, 0, 1],\n",
       "       [1, 0, 0, 0, 0, 0, 0, 0, 0, 1, 1, 1, 0, 1, 1, 1, 0, 0, 0, 1, 0, 1],\n",
       "       [1, 1, 1, 1, 1, 1, 1, 1, 1, 1, 0, 0, 0, 0, 1, 1, 1, 1, 1, 1, 0, 1],\n",
       "       [1, 3, 0, 0, 0, 0, 0, 0, 0, 0, 0, 1, 1, 0, 0, 0, 0, 0, 0, 0, 0, 1],\n",
       "       [1, 1, 1, 1, 1, 1, 1, 1, 1, 1, 1, 1, 1, 1, 1, 1, 1, 1, 1, 1, 1, 1]])"
      ]
     },
     "execution_count": 108,
     "metadata": {},
     "output_type": "execute_result"
    }
   ],
   "source": [
    "maze"
   ]
  },
  {
   "cell_type": "code",
   "execution_count": 106,
   "metadata": {
    "scrolled": true
   },
   "outputs": [
    {
     "name": "stdout",
     "output_type": "stream",
     "text": [
      "[(2, 11), (3, 10), (3, 12)]\n",
      "[(1, 11), (3, 9), (3, 13)]\n",
      "[(1, 10), (3, 8), (4, 13), (2, 13)]\n",
      "[(1, 9), (3, 7), (5, 13), (1, 13)]\n",
      "dead end\n",
      "[(1, 8), (3, 6), (5, 12), (5, 14)]\n",
      "[(1, 7), (4, 6), (6, 12), (5, 11), (5, 15)]\n",
      "[(1, 6), (5, 6), (7, 12), (5, 10), (5, 16)]\n",
      "[(1, 5), (6, 6), (7, 11), (7, 13), (5, 9), (6, 16), (4, 16)]\n",
      "[(1, 4), (6, 5), (6, 7), (7, 10), (8, 13), (5, 8), (6, 17), (3, 16)]\n",
      "[(2, 4), (6, 4), (6, 8), (8, 10), (8, 14), (6, 8), (6, 18), (3, 15), (3, 17)]\n",
      "dead end\n",
      "dead end\n",
      "dead end\n",
      "[(2, 3), (6, 3), (8, 9), (8, 15), (5, 18), (3, 18)]\n",
      "[(2, 2), (6, 2), (8, 8), (8, 16), (5, 19), (3, 19)]\n",
      "[(2, 1), (6, 1), (8, 7), (8, 17), (5, 20), (3, 20)]\n",
      "[(1, 1), (5, 1), (8, 6), (8, 18), (6, 20), (2, 20)]\n",
      "dead end\n",
      "[(4, 1), (8, 5), (8, 19), (7, 20), (1, 20)]\n",
      "[(4, 2), (8, 4), (8, 20), (8, 20), (1, 19)]\n",
      "dead end\n",
      "dead end\n",
      "[(4, 3), (8, 3), (1, 18)]\n",
      "[(4, 4), (8, 2), (1, 17)]\n",
      "dead end\n",
      "found goal!\n"
     ]
    }
   ],
   "source": [
    "class BreadthFirstSearch():\n",
    "    def __init__(self, maze):\n",
    "        # get starting position\n",
    "        self.tree = None\n",
    "        self.travelledLocs = set()\n",
    "        self.maze = self._parseMazeToInts(maze)\n",
    "        self.frontierTracker = []\n",
    "                           \n",
    "    # from maze_helper.py\n",
    "    @staticmethod\n",
    "    def _parseMazeToInts(maze):\n",
    "        \"\"\"Convert a maze as a string into a 2d numpy array\"\"\"\n",
    "        maze = maze_str.split('\\n')\n",
    "        maze = np.array([[tile for tile in row] for row in maze if len(row) > 0])\n",
    "        maze[maze == ' '] = 0  # path\n",
    "        maze[maze == 'X'] = 1  # border/barrier\n",
    "        maze[maze == 'S'] = 2  # start position\n",
    "        maze[maze == 'G'] = 3  # goal position\n",
    "        maze[maze == 'P'] = 4  # ??? \n",
    "        maze = maze.astype(int)\n",
    "        return maze\n",
    "    \n",
    "    def _getStartLoc(self):\n",
    "        startLoc = np.argwhere(self.maze == 2)[0]\n",
    "        x = startLoc[1]\n",
    "        y = startLoc[0]\n",
    "        return y, x\n",
    "        \n",
    "    def _getChoices(self, y, x):\n",
    "        # method to return all the possible locations to go to next\n",
    "        self.travelledLocs.add((y, x))\n",
    "        positionList = [\n",
    "            (y + 1, x),  # North\n",
    "            (y - 1, x),  # South\n",
    "            (y, x - 1),  # West\n",
    "            (y, x + 1),  # East\n",
    "        ]\n",
    "        choices = []\n",
    "        for position in positionList:\n",
    "            if position in travelledLocs: # ignore where I've already been\n",
    "                continue\n",
    "            state = self.maze[position]\n",
    "            if state == 0:  # path\n",
    "                choices.append(position)\n",
    "            if state == 3:  # goal\n",
    "                return 'goal'\n",
    "        # choices will be an empty list at a dead end\n",
    "        return choices\n",
    "    \n",
    "    def breadthFirstSearch(self):\n",
    "        y, x = self._getStartLocs(self.maze)\n",
    "        self.tree = Tree('Starting Position ({y}, {x})'.format(x=x,y=y))\n",
    "        self.frontierTracker = [frontier]\n",
    "        nodeCounter = 0\n",
    "        while 1:\n",
    "            newFrontier = []\n",
    "            print(frontier)\n",
    "            choices = self._getChoices(y, x)\n",
    "            while (len(choices) == 1):\n",
    "                # keep getting new choices until a node is found\n",
    "                y, x = choices[1], choices[0]\n",
    "                choices = self._getChoices(y, x)\n",
    "            if choices == 'goal':\n",
    "                break\n",
    "            if not choices:  # dead end\n",
    "                print('dead end')\n",
    "                continue\n",
    "            # need to update frontier \n",
    "            for choice in choices:\n",
    "                name = 'Node {0}'.format(nodeCounter)\n",
    "                node = Tree(data={\"name\": name, \"loc\": option})\n",
    "\n",
    "            frontierTracker.append(newFrontier)\n",
    "            frontier = newFrontier\n",
    "\n"
   ]
  },
  {
   "cell_type": "code",
   "execution_count": 107,
   "metadata": {},
   "outputs": [
    {
     "name": "stdout",
     "output_type": "stream",
     "text": [
      "[(2, 11), (3, 10), (3, 12)]\n",
      "[(1, 11), (3, 9), (3, 13)]\n",
      "[(1, 10), (3, 8), (4, 13), (2, 13)]\n",
      "[(1, 9), (3, 7), (5, 13), (1, 13)]\n",
      "[(1, 8), (3, 6), (5, 12), (5, 14)]\n",
      "[(1, 7), (4, 6), (6, 12), (5, 11), (5, 15)]\n",
      "[(1, 6), (5, 6), (7, 12), (5, 10), (5, 16)]\n",
      "[(1, 5), (6, 6), (7, 11), (7, 13), (5, 9), (6, 16), (4, 16)]\n",
      "[(1, 4), (6, 5), (6, 7), (7, 10), (8, 13), (5, 8), (6, 17), (3, 16)]\n",
      "[(2, 4), (6, 4), (6, 8), (8, 10), (8, 14), (6, 8), (6, 18), (3, 15), (3, 17)]\n",
      "[(2, 3), (6, 3), (8, 9), (8, 15), (5, 18), (3, 18)]\n",
      "[(2, 2), (6, 2), (8, 8), (8, 16), (5, 19), (3, 19)]\n",
      "[(2, 1), (6, 1), (8, 7), (8, 17), (5, 20), (3, 20)]\n",
      "[(1, 1), (5, 1), (8, 6), (8, 18), (6, 20), (2, 20)]\n",
      "[(4, 1), (8, 5), (8, 19), (7, 20), (1, 20)]\n",
      "[(4, 2), (8, 4), (8, 20), (8, 20), (1, 19)]\n",
      "[(4, 3), (8, 3), (1, 18)]\n",
      "[(4, 4), (8, 2), (1, 17)]\n",
      "[]\n"
     ]
    }
   ],
   "source": [
    "for frontier in frontierTracker:\n",
    "    print(frontier)"
   ]
  },
  {
   "cell_type": "code",
   "execution_count": 96,
   "metadata": {},
   "outputs": [
    {
     "data": {
      "text/plain": [
       "array([[1, 1, 1, 1, 1, 1, 1, 1, 1, 1, 1, 1, 1, 1, 1, 1, 1, 1, 1, 1, 1, 1],\n",
       "       [1, 0, 1, 1, 0, 0, 0, 0, 0, 0, 0, 0, 1, 0, 1, 0, 0, 0, 0, 0, 0, 1],\n",
       "       [1, 0, 0, 0, 0, 1, 1, 1, 1, 1, 1, 0, 1, 0, 1, 1, 1, 1, 1, 1, 0, 1],\n",
       "       [1, 1, 1, 1, 1, 1, 0, 0, 0, 0, 0, 2, 0, 0, 1, 0, 0, 0, 0, 0, 0, 1],\n",
       "       [1, 0, 0, 0, 0, 1, 0, 1, 1, 1, 1, 1, 1, 0, 1, 1, 0, 1, 1, 1, 1, 1],\n",
       "       [1, 0, 1, 1, 1, 1, 0, 1, 0, 0, 0, 0, 0, 0, 0, 0, 0, 1, 0, 0, 0, 1],\n",
       "       [1, 0, 0, 0, 0, 0, 0, 0, 0, 1, 1, 1, 0, 1, 1, 1, 0, 0, 0, 1, 0, 1],\n",
       "       [1, 1, 1, 1, 1, 1, 1, 1, 1, 1, 0, 0, 0, 0, 1, 1, 1, 1, 1, 1, 0, 1],\n",
       "       [1, 3, 0, 0, 0, 0, 0, 0, 0, 0, 0, 1, 1, 0, 0, 0, 0, 0, 0, 0, 0, 1],\n",
       "       [1, 1, 1, 1, 1, 1, 1, 1, 1, 1, 1, 1, 1, 1, 1, 1, 1, 1, 1, 1, 1, 1]])"
      ]
     },
     "execution_count": 96,
     "metadata": {},
     "output_type": "execute_result"
    }
   ],
   "source": [
    "maze"
   ]
  },
  {
   "cell_type": "markdown",
   "metadata": {},
   "source": [
    "Are your implementations complete and optimal? If not, what needs to be changed to make them complete or optimal? What is the time and space complexity of each?"
   ]
  },
  {
   "cell_type": "code",
   "execution_count": 18,
   "metadata": {
    "collapsed": true
   },
   "outputs": [],
   "source": [
    "# Discussion"
   ]
  },
  {
   "cell_type": "markdown",
   "metadata": {},
   "source": [
    "## Task 3: Greedy best-first search [2 points]\n",
    "\n",
    "Assume you have a GPS device that shows you your position in terms of x and y coordinates and you also know the coordinates of the goal. You can estimate the distance from your current position to the goal using a Manhattan distance (see https://en.wikipedia.org/wiki/Taxicab_geometry) as a heuristic function. "
   ]
  },
  {
   "cell_type": "code",
   "execution_count": 19,
   "metadata": {
    "collapsed": true
   },
   "outputs": [],
   "source": [
    "# Your code goes here"
   ]
  },
  {
   "cell_type": "markdown",
   "metadata": {},
   "source": [
    "Is this implementation complete and optimal? What is the time and space complexity?"
   ]
  },
  {
   "cell_type": "code",
   "execution_count": 20,
   "metadata": {
    "collapsed": true
   },
   "outputs": [],
   "source": [
    "# Discussion"
   ]
  },
  {
   "cell_type": "markdown",
   "metadata": {},
   "source": [
    "## Task 4: A* Search [3 points]\n",
    "\n",
    "Use again the GPS-based heuristic function."
   ]
  },
  {
   "cell_type": "code",
   "execution_count": 21,
   "metadata": {
    "collapsed": true
   },
   "outputs": [],
   "source": [
    "# Your code goes here"
   ]
  },
  {
   "cell_type": "markdown",
   "metadata": {},
   "source": [
    "Is this implementation complete and optimal? What is the time and space complexity?"
   ]
  },
  {
   "cell_type": "code",
   "execution_count": 22,
   "metadata": {
    "collapsed": true
   },
   "outputs": [],
   "source": [
    "# Discussion"
   ]
  },
  {
   "cell_type": "markdown",
   "metadata": {},
   "source": [
    "## Bonus Tasks [+1 point]\n",
    "\n",
    "We use intersections as states and the path length between two intersections can be different. If we use total path length in number of squares as path cost, how can we make sure that BFS and iterative deepening search is optimal? Change the code to do so."
   ]
  },
  {
   "cell_type": "code",
   "execution_count": null,
   "metadata": {
    "collapsed": true
   },
   "outputs": [],
   "source": [
    "# Your code goes here"
   ]
  },
  {
   "cell_type": "markdown",
   "metadata": {},
   "source": [
    "Modify your A* search to add weights (see text book) and explore how different weights influence the result."
   ]
  },
  {
   "cell_type": "code",
   "execution_count": 23,
   "metadata": {
    "collapsed": true
   },
   "outputs": [],
   "source": [
    "# Your code goes here"
   ]
  },
  {
   "cell_type": "markdown",
   "metadata": {},
   "source": [
    "What happens if the agent does not know the layout of the maze in advance (i.e., faces an unkown, only partially observable environment)? How does the environment look then (PEAS description)? How would you implement a rational agent to solve the maze? What if the agent still has a GPS device to tell the distance to the goal?"
   ]
  },
  {
   "cell_type": "code",
   "execution_count": 24,
   "metadata": {
    "collapsed": true
   },
   "outputs": [],
   "source": [
    "# Your code goes here"
   ]
  }
 ],
 "metadata": {
  "kernelspec": {
   "display_name": "Python 3",
   "language": "python",
   "name": "python3"
  },
  "language_info": {
   "codemirror_mode": {
    "name": "ipython",
    "version": 3
   },
   "file_extension": ".py",
   "mimetype": "text/x-python",
   "name": "python",
   "nbconvert_exporter": "python",
   "pygments_lexer": "ipython3",
   "version": "3.6.1"
  }
 },
 "nbformat": 4,
 "nbformat_minor": 4
}
